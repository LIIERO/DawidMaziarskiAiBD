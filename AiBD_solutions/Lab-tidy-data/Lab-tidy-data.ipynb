{
 "cells": [
  {
   "cell_type": "code",
   "execution_count": 1,
   "metadata": {},
   "outputs": [
    {
     "name": "stdout",
     "output_type": "stream",
     "text": [
      "Do you think the \"Big One\" will occur in your lifetime?\n"
     ]
    },
    {
     "data": {
      "text/html": [
       "<div>\n",
       "<style scoped>\n",
       "    .dataframe tbody tr th:only-of-type {\n",
       "        vertical-align: middle;\n",
       "    }\n",
       "\n",
       "    .dataframe tbody tr th {\n",
       "        vertical-align: top;\n",
       "    }\n",
       "\n",
       "    .dataframe thead th {\n",
       "        text-align: right;\n",
       "    }\n",
       "</style>\n",
       "<table border=\"1\" class=\"dataframe\">\n",
       "  <thead>\n",
       "    <tr style=\"text-align: right;\">\n",
       "      <th></th>\n",
       "      <th>Age</th>\n",
       "      <th>Gender</th>\n",
       "      <th>Answer</th>\n",
       "    </tr>\n",
       "  </thead>\n",
       "  <tbody>\n",
       "    <tr>\n",
       "      <th>0</th>\n",
       "      <td>18 - 29</td>\n",
       "      <td>Male</td>\n",
       "      <td>No</td>\n",
       "    </tr>\n",
       "    <tr>\n",
       "      <th>1</th>\n",
       "      <td>18 - 29</td>\n",
       "      <td>Male</td>\n",
       "      <td>No</td>\n",
       "    </tr>\n",
       "    <tr>\n",
       "      <th>2</th>\n",
       "      <td>18 - 29</td>\n",
       "      <td>Male</td>\n",
       "      <td>No</td>\n",
       "    </tr>\n",
       "    <tr>\n",
       "      <th>3</th>\n",
       "      <td>18 - 29</td>\n",
       "      <td>Male</td>\n",
       "      <td>No</td>\n",
       "    </tr>\n",
       "    <tr>\n",
       "      <th>4</th>\n",
       "      <td>18 - 29</td>\n",
       "      <td>Male</td>\n",
       "      <td>Yes</td>\n",
       "    </tr>\n",
       "    <tr>\n",
       "      <th>...</th>\n",
       "      <td>...</td>\n",
       "      <td>...</td>\n",
       "      <td>...</td>\n",
       "    </tr>\n",
       "    <tr>\n",
       "      <th>1008</th>\n",
       "      <td>60</td>\n",
       "      <td>Male</td>\n",
       "      <td>No</td>\n",
       "    </tr>\n",
       "    <tr>\n",
       "      <th>1009</th>\n",
       "      <td>60</td>\n",
       "      <td>Female</td>\n",
       "      <td>No</td>\n",
       "    </tr>\n",
       "    <tr>\n",
       "      <th>1010</th>\n",
       "      <td>30 - 44</td>\n",
       "      <td>Female</td>\n",
       "      <td>No</td>\n",
       "    </tr>\n",
       "    <tr>\n",
       "      <th>1011</th>\n",
       "      <td>30 - 44</td>\n",
       "      <td>Female</td>\n",
       "      <td>No</td>\n",
       "    </tr>\n",
       "    <tr>\n",
       "      <th>1012</th>\n",
       "      <td>NaN</td>\n",
       "      <td>NaN</td>\n",
       "      <td>No</td>\n",
       "    </tr>\n",
       "  </tbody>\n",
       "</table>\n",
       "<p>1013 rows × 3 columns</p>\n",
       "</div>"
      ],
      "text/plain": [
       "          Age  Gender Answer\n",
       "0     18 - 29    Male     No\n",
       "1     18 - 29    Male     No\n",
       "2     18 - 29    Male     No\n",
       "3     18 - 29    Male     No\n",
       "4     18 - 29    Male    Yes\n",
       "...       ...     ...    ...\n",
       "1008       60    Male     No\n",
       "1009       60  Female     No\n",
       "1010  30 - 44  Female     No\n",
       "1011  30 - 44  Female     No\n",
       "1012      NaN     NaN     No\n",
       "\n",
       "[1013 rows x 3 columns]"
      ]
     },
     "metadata": {},
     "output_type": "display_data"
    }
   ],
   "source": [
    "# Dawid Maziarski 405353\n",
    "\n",
    "# Dataset 5\n",
    "\n",
    "import pandas as pd\n",
    "\n",
    "# Odczyt oryginalnych danych i ich wstępne edytowanie\n",
    "df = pd.read_csv('Datasets\\earthquake_data.csv')\n",
    "l = list(df.columns.values)\n",
    "l_c = l[7:9] + l[2:3] # l_c lista zawierająca kolumny: [wiek, płeć, odpowiedź na pytanie]\n",
    "df = df[l_c] # Ograniczamy zbiór danych tylko do trzech interesujących nas kolumn\n",
    "df = df.rename(columns={l_c[1]: 'Gender', l_c[2]: 'Answer'}) # Zmiana nazw kolumn na łatwiejsze do pracy\n",
    "print(\"Do you think the \\\"Big One\\\" will occur in your lifetime?\")\n",
    "display(df)"
   ]
  },
  {
   "cell_type": "markdown",
   "metadata": {},
   "source": [
    "**Powyższy zbiór danych jest bardzo nieczytelny przez swoją długość. Poniżej został on uporządkowany.**\n",
    "\n",
    "**Podzieliłem go na 2 tabele, każda dla innej płci. Tabela zawiera liczby odpowiedzi na tak i na nie\n",
    "ludzi w różnych przedziałach wiekowych.**"
   ]
  },
  {
   "cell_type": "code",
   "execution_count": 2,
   "metadata": {},
   "outputs": [
    {
     "name": "stdout",
     "output_type": "stream",
     "text": [
      "Poniżej znajdują się dwie tabele opinii mężczyzn i kobiet \n",
      "w różnych przedziałach wiekowych na temat tego \n",
      "czy trzęsienie ziemii \"Big One\" wystąpi w ich życiu.\n"
     ]
    },
    {
     "data": {
      "text/html": [
       "<style type=\"text/css\">\n",
       "</style>\n",
       "<table id=\"T_5ca3b\">\n",
       "  <caption>Males - do you think the \"Big One\" will occur in your lifetime?</caption>\n",
       "  <thead>\n",
       "    <tr>\n",
       "      <th class=\"blank level0\" >&nbsp;</th>\n",
       "      <th id=\"T_5ca3b_level0_col0\" class=\"col_heading level0 col0\" >18 - 29</th>\n",
       "      <th id=\"T_5ca3b_level0_col1\" class=\"col_heading level0 col1\" >30 - 44</th>\n",
       "      <th id=\"T_5ca3b_level0_col2\" class=\"col_heading level0 col2\" >45 - 59</th>\n",
       "      <th id=\"T_5ca3b_level0_col3\" class=\"col_heading level0 col3\" >60</th>\n",
       "    </tr>\n",
       "  </thead>\n",
       "  <tbody>\n",
       "    <tr>\n",
       "      <th id=\"T_5ca3b_level0_row0\" class=\"row_heading level0 row0\" >Yes</th>\n",
       "      <td id=\"T_5ca3b_row0_col0\" class=\"data row0 col0\" >41</td>\n",
       "      <td id=\"T_5ca3b_row0_col1\" class=\"data row0 col1\" >59</td>\n",
       "      <td id=\"T_5ca3b_row0_col2\" class=\"data row0 col2\" >60</td>\n",
       "      <td id=\"T_5ca3b_row0_col3\" class=\"data row0 col3\" >46</td>\n",
       "    </tr>\n",
       "    <tr>\n",
       "      <th id=\"T_5ca3b_level0_row1\" class=\"row_heading level0 row1\" >No</th>\n",
       "      <td id=\"T_5ca3b_row1_col0\" class=\"data row1 col0\" >65</td>\n",
       "      <td id=\"T_5ca3b_row1_col1\" class=\"data row1 col1\" >67</td>\n",
       "      <td id=\"T_5ca3b_row1_col2\" class=\"data row1 col2\" >74</td>\n",
       "      <td id=\"T_5ca3b_row1_col3\" class=\"data row1 col3\" >68</td>\n",
       "    </tr>\n",
       "  </tbody>\n",
       "</table>\n"
      ],
      "text/plain": [
       "<pandas.io.formats.style.Styler at 0x1c6203d0e20>"
      ]
     },
     "metadata": {},
     "output_type": "display_data"
    },
    {
     "data": {
      "text/html": [
       "<style type=\"text/css\">\n",
       "</style>\n",
       "<table id=\"T_6f828\">\n",
       "  <caption>Females - Do you think the \"Big One\" will occur in your lifetime?</caption>\n",
       "  <thead>\n",
       "    <tr>\n",
       "      <th class=\"blank level0\" >&nbsp;</th>\n",
       "      <th id=\"T_6f828_level0_col0\" class=\"col_heading level0 col0\" >18 - 29</th>\n",
       "      <th id=\"T_6f828_level0_col1\" class=\"col_heading level0 col1\" >30 - 44</th>\n",
       "      <th id=\"T_6f828_level0_col2\" class=\"col_heading level0 col2\" >45 - 59</th>\n",
       "      <th id=\"T_6f828_level0_col3\" class=\"col_heading level0 col3\" >60</th>\n",
       "    </tr>\n",
       "  </thead>\n",
       "  <tbody>\n",
       "    <tr>\n",
       "      <th id=\"T_6f828_level0_row0\" class=\"row_heading level0 row0\" >Yes</th>\n",
       "      <td id=\"T_6f828_row0_col0\" class=\"data row0 col0\" >47</td>\n",
       "      <td id=\"T_6f828_row0_col1\" class=\"data row0 col1\" >61</td>\n",
       "      <td id=\"T_6f828_row0_col2\" class=\"data row0 col2\" >61</td>\n",
       "      <td id=\"T_6f828_row0_col3\" class=\"data row0 col3\" >55</td>\n",
       "    </tr>\n",
       "    <tr>\n",
       "      <th id=\"T_6f828_level0_row1\" class=\"row_heading level0 row1\" >No</th>\n",
       "      <td id=\"T_6f828_row1_col0\" class=\"data row1 col0\" >62</td>\n",
       "      <td id=\"T_6f828_row1_col1\" class=\"data row1 col1\" >70</td>\n",
       "      <td id=\"T_6f828_row1_col2\" class=\"data row1 col2\" >80</td>\n",
       "      <td id=\"T_6f828_row1_col3\" class=\"data row1 col3\" >85</td>\n",
       "    </tr>\n",
       "  </tbody>\n",
       "</table>\n"
      ],
      "text/plain": [
       "<pandas.io.formats.style.Styler at 0x1c6203d5070>"
      ]
     },
     "metadata": {},
     "output_type": "display_data"
    }
   ],
   "source": [
    "# Wyodrębnione zostały płcie i odpowiedzi tak i nie\n",
    "df_yes = df[df['Answer'] == 'Yes']\n",
    "df_no = df[df['Answer'] == 'No']\n",
    "df_male_yes = df_yes[df_yes['Gender'] == 'Male']\n",
    "df_male_no = df_no[df_no['Gender'] == 'Male']\n",
    "df_female_yes = df_yes[df_yes['Gender'] == 'Female']\n",
    "df_female_no = df_no[df_no['Gender'] == 'Female']\n",
    "\n",
    "# Sporządzone zostały listy odpowiedzi dla różnych przedziałów wiekowych\n",
    "ages = ['18 - 29', '30 - 44', '45 - 59', '60']\n",
    "male_val = [[len(df_male_yes[df_male_yes['Age'] == age]), len(df_male_no[df_male_no['Age'] == age])] for age in ages]\n",
    "female_val = [[len(df_female_yes[df_female_yes['Age'] == age]), len(df_female_no[df_female_no['Age'] == age])] for age in ages]\n",
    "\n",
    "print(\"Poniżej znajdują się dwie tabele opinii mężczyzn i kobiet \\nw różnych przedziałach wiekowych na temat tego \\nczy trzęsienie ziemii \\\"Big One\\\" wystąpi w ich życiu.\")\n",
    "\n",
    "# Tabela odpowiedzi mężczyzn\n",
    "data = {age: male_val[i] for i, age in enumerate(ages)}\n",
    "tab_male = pd.DataFrame(data, index=['Yes', 'No']).style.set_caption(\"Males - do you think the \\\"Big One\\\" will occur in your lifetime?\")\n",
    "display(tab_male)\n",
    "\n",
    "# Tabela odpowiedzi kobiet\n",
    "data = {age: female_val[i] for i, age in enumerate(ages)}\n",
    "tab_female = pd.DataFrame(data, index=['Yes', 'No']).style.set_caption(\"Females - Do you think the \\\"Big One\\\" will occur in your lifetime?\")\n",
    "display(tab_female)"
   ]
  }
 ],
 "metadata": {
  "kernelspec": {
   "display_name": "Python 3.9.13 ('AiBD')",
   "language": "python",
   "name": "python3"
  },
  "language_info": {
   "codemirror_mode": {
    "name": "ipython",
    "version": 3
   },
   "file_extension": ".py",
   "mimetype": "text/x-python",
   "name": "python",
   "nbconvert_exporter": "python",
   "pygments_lexer": "ipython3",
   "version": "3.9.13"
  },
  "orig_nbformat": 4,
  "vscode": {
   "interpreter": {
    "hash": "ac9f495d7fa6a5be31d8714ade2706cccec86e5702f98f85a113827efc4e08d4"
   }
  }
 },
 "nbformat": 4,
 "nbformat_minor": 2
}
